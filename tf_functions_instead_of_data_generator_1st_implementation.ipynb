{
  "cells": [
    {
      "cell_type": "markdown",
      "source": [
        "**Training a Network with tf.functions**"
      ],
      "metadata": {
        "id": "cHcPR-pyfkRL"
      }
    },
    {
      "cell_type": "code",
      "execution_count": 1,
      "metadata": {
        "id": "qf-UkddKWZbF"
      },
      "outputs": [],
      "source": [
        "# importing required libraries and packages, which will be used through code.\n",
        "import tensorflow as tf\n",
        "import os\n",
        "import numpy as np\n",
        "import matplotlib.pyplot as plt\n",
        "import pathlib"
      ]
    },
    {
      "cell_type": "code",
      "execution_count": 2,
      "metadata": {
        "id": "NCosPZTVWZbK",
        "colab": {
          "base_uri": "https://localhost:8080/"
        },
        "outputId": "0b27e128-e174-4fd5-8a9a-cee04e861c20"
      },
      "outputs": [
        {
          "output_type": "stream",
          "name": "stdout",
          "text": [
            "Downloading data from https://storage.googleapis.com/mledu-datasets/cats_and_dogs_filtered.zip\n",
            "68608000/68606236 [==============================] - 2s 0us/step\n",
            "68616192/68606236 [==============================] - 2s 0us/step\n"
          ]
        }
      ],
      "source": [
        "# this part downloads the cat vs dog dataset from the google servers, and extracts them. finally, you will have train and validation data paths in two variables.\n",
        "URL =     'https://storage.googleapis.com/mledu-datasets/cats_and_dogs_filtered.zip'\n",
        "\n",
        "path_to_zip = tf.keras.utils.get_file('cats_and_dogs.zip', origin=URL, extract=True)\n",
        "\n",
        "PATH =          os.path.join(os.path.dirname(path_to_zip), 'cats_and_dogs_filtered')\n",
        "\n",
        "train_dir                    =  \"/root/.keras/datasets/cats_and_dogs_filtered/train\"\n",
        "validation_dir           = \"/root/.keras/datasets/cats_and_dogs_filtered/validation\""
      ]
    },
    {
      "cell_type": "code",
      "source": [
        "# first, we have defined the augmentation function with some tf.image attributes.\n",
        "def augment_data(image):\n",
        "    image = tf.image.resize_with_crop_or_pad(image, 150, 150)\n",
        "    image = tf.image.random_brightness(image, 0.5) \n",
        "    image = tf.image.random_flip_left_right(image)\n",
        "    image = tf.image.random_flip_up_down   (image)\n",
        "    return image"
      ],
      "metadata": {
        "id": "xYVAJWOIpLLJ"
      },
      "execution_count": 3,
      "outputs": []
    },
    {
      "cell_type": "code",
      "source": [
        "# Determining class names, will be used in the following function\n",
        "#Class_Names=['cats','dogs']"
      ],
      "metadata": {
        "id": "fGMlWroYuORc"
      },
      "execution_count": 4,
      "outputs": []
    },
    {
      "cell_type": "code",
      "execution_count": 5,
      "metadata": {
        "id": "t2rad4CHWZbO"
      },
      "outputs": [],
      "source": [
        "# Here, we have defined the get_label function, which assigns a one-hot coded label to each file-path\n",
        "def get_label(file_path):\n",
        "  # convert the path to a list of path components\n",
        "  parts = tf.strings.split(file_path, os.path.sep)\n",
        "  # The second to last is the     class-directory\n",
        "  return parts[-2] == 'dogs'         #Class_Names"
      ]
    },
    {
      "cell_type": "code",
      "execution_count": 6,
      "metadata": {
        "id": "JYewkdJmWZbP",
        "outputId": "6efc6c60-a7e0-4ca6-ec12-f8d40da8295f",
        "colab": {
          "base_uri": "https://localhost:8080/"
        }
      },
      "outputs": [
        {
          "output_type": "execute_result",
          "data": {
            "text/plain": [
              "False"
            ]
          },
          "metadata": {},
          "execution_count": 6
        }
      ],
      "source": [
        "# a test on above-mentioned function\n",
        "get_label(\"/root/.keras/datasets/cats_and_dogs_filtered/train/cats/cat.0.jpg\").numpy()"
      ]
    },
    {
      "cell_type": "code",
      "execution_count": 7,
      "metadata": {
        "id": "ncAdg8reWZbP"
      },
      "outputs": [],
      "source": [
        "# Next, we'll define a function to load an image, decode it, and change its tensor type to float 32.\n",
        "def load_img(image_path):\n",
        "    img = tf.io.read_file(image_path)\n",
        "    \n",
        "    # https://stackoverflow.com/questions/44942729/tensorflowvalueerror-images-contains-no-shape\n",
        "    img = tf.image.decode_image(img, 3, expand_animations=False)\n",
        "    \n",
        "    img = tf.cast(img, tf.float32)\n",
        "    return img"
      ]
    },
    {
      "cell_type": "code",
      "execution_count": 8,
      "metadata": {
        "id": "UgkSGTfJWZbP"
      },
      "outputs": [],
      "source": [
        "# A function to normalize the images between [0, 1]\n",
        "def normalize(image):\n",
        "    image =  (image / 255)\n",
        "    return image"
      ]
    },
    {
      "cell_type": "code",
      "execution_count": 9,
      "metadata": {
        "id": "T5mPexEFWZbQ"
      },
      "outputs": [],
      "source": [
        "# Here, the resizing function have been defined, which resizes to an arbitrary size given as input.\n",
        "def resize(image,height, width):\n",
        "    image = tf.image.resize(image, (height, width),\n",
        "                                 method=tf.image.ResizeMethod.NEAREST_NEIGHBOR)\n",
        "    #image = tf.image.resize_with_crop_or_pad(image, height, width)\n",
        "    return image"
      ]
    },
    {
      "cell_type": "code",
      "execution_count": 10,
      "metadata": {
        "id": "7e23TVOOWZbQ"
      },
      "outputs": [],
      "source": [
        "# a function, which returns image and its label, using load_img and get_label functions,\n",
        "# corresponding to the given image_path.\n",
        "def load_image_with_label(image_path):\n",
        "    label = get_label(image_path)\n",
        "    img   =  load_img(image_path)\n",
        "    return img, label"
      ]
    },
    {
      "cell_type": "code",
      "execution_count": 11,
      "metadata": {
        "id": "2Lk2D-IgWZbQ"
      },
      "outputs": [],
      "source": [
        "# a Function to load train data, which includes load_image_with_label, augment_data, and normalize functions\n",
        "def load_image_train(image_file):\n",
        "    image, label = load_image_with_label(image_file)\n",
        "    image = augment_data(image)\n",
        "    image =    normalize(image)\n",
        "    \n",
        "    return image, label"
      ]
    },
    {
      "cell_type": "code",
      "execution_count": 12,
      "metadata": {
        "id": "dR3B0OlRWZbQ"
      },
      "outputs": [],
      "source": [
        "# a Function to load test data, which is similar to the previous one, but obviously doesn't include augment_data\n",
        "def load_image_test(image_file):\n",
        "    image, label = load_image_with_label(image_file)\n",
        "    image = resize(image, 150, 150)\n",
        "    image = normalize(image)\n",
        "\n",
        "    return image, label"
      ]
    },
    {
      "cell_type": "code",
      "execution_count": 13,
      "metadata": {
        "id": "-dYTmfE5WZbR"
      },
      "outputs": [],
      "source": [
        "# Determining batch-size and shuffle buffer size, which will be used further.\n",
        "BATCH_SIZE            = 32\n",
        "SHUFFLE_BUFFER_SIZE = 500"
      ]
    },
    {
      "cell_type": "code",
      "source": [
        "# extracting train and validation directories from corresponding paths.\n",
        "train_dir      =             pathlib.Path(train_dir)\n",
        "validation_dir =        pathlib.Path(validation_dir)"
      ],
      "metadata": {
        "id": "Yn-hcw-02mUD"
      },
      "execution_count": 14,
      "outputs": []
    },
    {
      "cell_type": "code",
      "source": [
        "# training and validation datasets are stored in two ShuffleDataset typed files.\n",
        "train_dataset     = tf.data.Dataset.list_files     (str(train_dir/'*/*'))\n",
        "validation_dataset= tf.data.Dataset.list_files(str(validation_dir/'*/*'))"
      ],
      "metadata": {
        "id": "iRxmXeiLyhrB"
      },
      "execution_count": 15,
      "outputs": []
    },
    {
      "cell_type": "code",
      "source": [
        "print(len(list(train_dataset))     )\n",
        "print(len(list(validation_dataset)))"
      ],
      "metadata": {
        "colab": {
          "base_uri": "https://localhost:8080/"
        },
        "id": "hG6fBYxRr9HH",
        "outputId": "90050623-91a2-4d94-b574-990b181831cf"
      },
      "execution_count": 16,
      "outputs": [
        {
          "output_type": "stream",
          "name": "stdout",
          "text": [
            "2000\n",
            "1000\n"
          ]
        }
      ]
    },
    {
      "cell_type": "code",
      "source": [
        "# we will use AUTOTUNE in order to employ prefetch attribute for accelleration.\n",
        "AUTOTUNE = tf.data.experimental.AUTOTUNE"
      ],
      "metadata": {
        "id": "yb10Bl1atgmg"
      },
      "execution_count": 17,
      "outputs": []
    },
    {
      "cell_type": "code",
      "execution_count": 18,
      "metadata": {
        "id": "10y2ZLlpWZbR"
      },
      "outputs": [],
      "source": [
        "# Get train data set\n",
        "train_dataset = train_dataset.map(load_image_train)\n",
        "train_dataset = train_dataset.shuffle(SHUFFLE_BUFFER_SIZE)\n",
        "train_dataset = train_dataset.    batch(BATCH_SIZE)\n",
        "train_dataset = train_dataset.   prefetch(AUTOTUNE)"
      ]
    },
    {
      "cell_type": "code",
      "execution_count": 19,
      "metadata": {
        "id": "nbyv9w_MWZbR"
      },
      "outputs": [],
      "source": [
        "# Get validation data set\n",
        "validation_dataset = validation_dataset.map(load_image_test)\n",
        "validation_dataset = validation_dataset.batch(BATCH_SIZE)\n",
        "validation_dataset = validation_dataset.cache()"
      ]
    },
    {
      "cell_type": "code",
      "source": [
        "# Determinig and compiling a sequential network model \n",
        "from keras import layers\n",
        "from keras import models\n",
        "from tensorflow.keras import optimizers\n",
        "\n",
        "model = models.Sequential()\n",
        "model.add(layers.Conv2D(32, (3, 3), activation='relu',\n",
        "                        input_shape=(150, 150, 3)))\n",
        "model.add(layers.MaxPooling2D((2, 2)))\n",
        "model.add(layers.Conv2D(64, (3, 3), activation='relu') )\n",
        "model.add(layers.MaxPooling2D((2, 2)))\n",
        "model.add(layers.Conv2D(128, (3, 3), activation='relu'))\n",
        "model.add(layers.MaxPooling2D((2, 2)))\n",
        "model.add(layers.Conv2D(128, (3, 3), activation='relu'))\n",
        "model.add(layers.MaxPooling2D((2, 2)))\n",
        "model.add(layers.Flatten())\n",
        "model.add(layers.Dropout(0.5))\n",
        "model.add(layers.Dense(512, activation='relu'))\n",
        "model.add(layers.Dense(1, activation='sigmoid'))\n",
        "\n",
        "model.compile(loss='binary_crossentropy',\n",
        "              optimizer=optimizers.RMSprop(lr=1e-4),\n",
        "              metrics=['acc'])"
      ],
      "metadata": {
        "id": "-0t5oqWM4pXp",
        "colab": {
          "base_uri": "https://localhost:8080/"
        },
        "outputId": "a63e1320-8345-437b-f361-f29fc892209b"
      },
      "execution_count": 20,
      "outputs": [
        {
          "output_type": "stream",
          "name": "stderr",
          "text": [
            "/usr/local/lib/python3.7/dist-packages/keras/optimizer_v2/rmsprop.py:130: UserWarning: The `lr` argument is deprecated, use `learning_rate` instead.\n",
            "  super(RMSprop, self).__init__(name, **kwargs)\n"
          ]
        }
      ]
    },
    {
      "cell_type": "code",
      "source": [
        "model.summary()"
      ],
      "metadata": {
        "id": "n1qcDnvc43dq",
        "outputId": "dade3ae0-024a-4854-b85e-8eca9cf5ab5d",
        "colab": {
          "base_uri": "https://localhost:8080/"
        }
      },
      "execution_count": 21,
      "outputs": [
        {
          "output_type": "stream",
          "name": "stdout",
          "text": [
            "Model: \"sequential\"\n",
            "_________________________________________________________________\n",
            " Layer (type)                Output Shape              Param #   \n",
            "=================================================================\n",
            " conv2d (Conv2D)             (None, 148, 148, 32)      896       \n",
            "                                                                 \n",
            " max_pooling2d (MaxPooling2D  (None, 74, 74, 32)       0         \n",
            " )                                                               \n",
            "                                                                 \n",
            " conv2d_1 (Conv2D)           (None, 72, 72, 64)        18496     \n",
            "                                                                 \n",
            " max_pooling2d_1 (MaxPooling  (None, 36, 36, 64)       0         \n",
            " 2D)                                                             \n",
            "                                                                 \n",
            " conv2d_2 (Conv2D)           (None, 34, 34, 128)       73856     \n",
            "                                                                 \n",
            " max_pooling2d_2 (MaxPooling  (None, 17, 17, 128)      0         \n",
            " 2D)                                                             \n",
            "                                                                 \n",
            " conv2d_3 (Conv2D)           (None, 15, 15, 128)       147584    \n",
            "                                                                 \n",
            " max_pooling2d_3 (MaxPooling  (None, 7, 7, 128)        0         \n",
            " 2D)                                                             \n",
            "                                                                 \n",
            " flatten (Flatten)           (None, 6272)              0         \n",
            "                                                                 \n",
            " dropout (Dropout)           (None, 6272)              0         \n",
            "                                                                 \n",
            " dense (Dense)               (None, 512)               3211776   \n",
            "                                                                 \n",
            " dense_1 (Dense)             (None, 1)                 513       \n",
            "                                                                 \n",
            "=================================================================\n",
            "Total params: 3,453,121\n",
            "Trainable params: 3,453,121\n",
            "Non-trainable params: 0\n",
            "_________________________________________________________________\n"
          ]
        }
      ]
    },
    {
      "cell_type": "code",
      "execution_count": 22,
      "metadata": {
        "id": "9DvauemfWZbT",
        "outputId": "c1670523-4eb1-429c-a2dd-a00002858a8f",
        "colab": {
          "base_uri": "https://localhost:8080/"
        }
      },
      "outputs": [
        {
          "output_type": "stream",
          "name": "stdout",
          "text": [
            "Epoch 1/100\n",
            "63/63 [==============================] - 27s 142ms/step - loss: 0.6932 - acc: 0.5170 - val_loss: 0.6908 - val_acc: 0.5070\n",
            "Epoch 2/100\n",
            "63/63 [==============================] - 9s 108ms/step - loss: 0.6813 - acc: 0.5635 - val_loss: 0.6902 - val_acc: 0.5400\n",
            "Epoch 3/100\n",
            "63/63 [==============================] - 9s 111ms/step - loss: 0.6745 - acc: 0.5900 - val_loss: 0.6852 - val_acc: 0.5790\n",
            "Epoch 4/100\n",
            "63/63 [==============================] - 10s 112ms/step - loss: 0.6639 - acc: 0.5985 - val_loss: 0.8021 - val_acc: 0.5050\n",
            "Epoch 5/100\n",
            "63/63 [==============================] - 9s 112ms/step - loss: 0.6657 - acc: 0.5950 - val_loss: 0.6974 - val_acc: 0.5710\n",
            "Epoch 6/100\n",
            "63/63 [==============================] - 9s 119ms/step - loss: 0.6608 - acc: 0.6150 - val_loss: 0.7047 - val_acc: 0.5550\n",
            "Epoch 7/100\n",
            "63/63 [==============================] - 9s 110ms/step - loss: 0.6493 - acc: 0.6375 - val_loss: 0.6998 - val_acc: 0.5670\n",
            "Epoch 8/100\n",
            "63/63 [==============================] - 9s 113ms/step - loss: 0.6455 - acc: 0.6395 - val_loss: 0.7052 - val_acc: 0.5290\n",
            "Epoch 9/100\n",
            "63/63 [==============================] - 9s 111ms/step - loss: 0.6393 - acc: 0.6575 - val_loss: 0.6825 - val_acc: 0.6010\n",
            "Epoch 10/100\n",
            "63/63 [==============================] - 9s 113ms/step - loss: 0.6275 - acc: 0.6535 - val_loss: 0.7104 - val_acc: 0.5680\n",
            "Epoch 11/100\n",
            "63/63 [==============================] - 9s 115ms/step - loss: 0.6250 - acc: 0.6690 - val_loss: 0.6994 - val_acc: 0.5690\n",
            "Epoch 12/100\n",
            "63/63 [==============================] - 9s 111ms/step - loss: 0.6167 - acc: 0.6755 - val_loss: 0.6627 - val_acc: 0.6070\n",
            "Epoch 13/100\n",
            "63/63 [==============================] - 9s 117ms/step - loss: 0.6136 - acc: 0.6730 - val_loss: 0.6687 - val_acc: 0.6030\n",
            "Epoch 14/100\n",
            "63/63 [==============================] - 9s 112ms/step - loss: 0.5968 - acc: 0.6850 - val_loss: 0.7591 - val_acc: 0.5680\n",
            "Epoch 15/100\n",
            "63/63 [==============================] - 9s 114ms/step - loss: 0.6017 - acc: 0.6795 - val_loss: 0.6752 - val_acc: 0.6180\n",
            "Epoch 16/100\n",
            "63/63 [==============================] - 9s 118ms/step - loss: 0.5846 - acc: 0.6990 - val_loss: 0.6584 - val_acc: 0.6500\n",
            "Epoch 17/100\n",
            "63/63 [==============================] - 9s 118ms/step - loss: 0.5988 - acc: 0.6830 - val_loss: 0.6392 - val_acc: 0.6410\n",
            "Epoch 18/100\n",
            "63/63 [==============================] - 9s 117ms/step - loss: 0.5903 - acc: 0.6825 - val_loss: 0.7558 - val_acc: 0.5620\n",
            "Epoch 19/100\n",
            "63/63 [==============================] - 9s 118ms/step - loss: 0.5836 - acc: 0.6920 - val_loss: 1.0116 - val_acc: 0.5150\n",
            "Epoch 20/100\n",
            "63/63 [==============================] - 9s 116ms/step - loss: 0.5768 - acc: 0.7060 - val_loss: 0.6596 - val_acc: 0.6460\n",
            "Epoch 21/100\n",
            "63/63 [==============================] - 9s 112ms/step - loss: 0.5784 - acc: 0.7085 - val_loss: 0.7516 - val_acc: 0.5700\n",
            "Epoch 22/100\n",
            "63/63 [==============================] - 9s 114ms/step - loss: 0.5769 - acc: 0.6990 - val_loss: 0.6559 - val_acc: 0.6300\n",
            "Epoch 23/100\n",
            "63/63 [==============================] - 9s 116ms/step - loss: 0.5674 - acc: 0.7005 - val_loss: 0.7277 - val_acc: 0.6340\n",
            "Epoch 24/100\n",
            "63/63 [==============================] - 9s 114ms/step - loss: 0.5703 - acc: 0.7155 - val_loss: 0.7702 - val_acc: 0.5820\n",
            "Epoch 25/100\n",
            "63/63 [==============================] - 9s 114ms/step - loss: 0.5669 - acc: 0.7175 - val_loss: 0.9707 - val_acc: 0.5100\n",
            "Epoch 26/100\n",
            "63/63 [==============================] - 9s 113ms/step - loss: 0.5659 - acc: 0.7110 - val_loss: 0.8375 - val_acc: 0.5640\n",
            "Epoch 27/100\n",
            "63/63 [==============================] - 9s 113ms/step - loss: 0.5627 - acc: 0.7175 - val_loss: 0.7400 - val_acc: 0.5790\n",
            "Epoch 28/100\n",
            "63/63 [==============================] - 9s 112ms/step - loss: 0.5545 - acc: 0.7230 - val_loss: 1.0137 - val_acc: 0.5240\n",
            "Epoch 29/100\n",
            "63/63 [==============================] - 9s 115ms/step - loss: 0.5525 - acc: 0.7235 - val_loss: 0.6554 - val_acc: 0.6560\n",
            "Epoch 30/100\n",
            "63/63 [==============================] - 9s 111ms/step - loss: 0.5437 - acc: 0.7230 - val_loss: 0.6825 - val_acc: 0.6320\n",
            "Epoch 31/100\n",
            "63/63 [==============================] - 9s 113ms/step - loss: 0.5447 - acc: 0.7235 - val_loss: 0.7366 - val_acc: 0.6170\n",
            "Epoch 32/100\n",
            "63/63 [==============================] - 9s 115ms/step - loss: 0.5440 - acc: 0.7205 - val_loss: 0.7262 - val_acc: 0.6420\n",
            "Epoch 33/100\n",
            "63/63 [==============================] - 9s 116ms/step - loss: 0.5398 - acc: 0.7320 - val_loss: 0.7264 - val_acc: 0.6130\n",
            "Epoch 34/100\n",
            "63/63 [==============================] - 9s 115ms/step - loss: 0.5404 - acc: 0.7340 - val_loss: 0.8441 - val_acc: 0.5790\n",
            "Epoch 35/100\n",
            "63/63 [==============================] - 9s 115ms/step - loss: 0.5279 - acc: 0.7530 - val_loss: 0.8491 - val_acc: 0.5760\n",
            "Epoch 36/100\n",
            "63/63 [==============================] - 9s 117ms/step - loss: 0.5312 - acc: 0.7435 - val_loss: 0.6573 - val_acc: 0.6430\n",
            "Epoch 37/100\n",
            "63/63 [==============================] - 9s 116ms/step - loss: 0.5288 - acc: 0.7430 - val_loss: 0.7425 - val_acc: 0.6250\n",
            "Epoch 38/100\n",
            "63/63 [==============================] - 9s 117ms/step - loss: 0.5233 - acc: 0.7445 - val_loss: 0.6576 - val_acc: 0.6550\n",
            "Epoch 39/100\n",
            "63/63 [==============================] - 9s 117ms/step - loss: 0.5219 - acc: 0.7440 - val_loss: 0.8505 - val_acc: 0.5740\n",
            "Epoch 40/100\n",
            "63/63 [==============================] - 9s 117ms/step - loss: 0.5180 - acc: 0.7390 - val_loss: 0.6667 - val_acc: 0.6540\n",
            "Epoch 41/100\n",
            "63/63 [==============================] - 9s 117ms/step - loss: 0.5199 - acc: 0.7490 - val_loss: 0.8698 - val_acc: 0.5620\n",
            "Epoch 42/100\n",
            "63/63 [==============================] - 9s 115ms/step - loss: 0.5177 - acc: 0.7400 - val_loss: 0.7987 - val_acc: 0.5970\n",
            "Epoch 43/100\n",
            "63/63 [==============================] - 9s 114ms/step - loss: 0.5166 - acc: 0.7465 - val_loss: 0.6828 - val_acc: 0.6590\n",
            "Epoch 44/100\n",
            "63/63 [==============================] - 10s 118ms/step - loss: 0.5058 - acc: 0.7565 - val_loss: 0.6900 - val_acc: 0.6530\n",
            "Epoch 45/100\n",
            "63/63 [==============================] - 9s 117ms/step - loss: 0.5106 - acc: 0.7525 - val_loss: 0.6705 - val_acc: 0.6550\n",
            "Epoch 46/100\n",
            "63/63 [==============================] - 9s 115ms/step - loss: 0.4935 - acc: 0.7575 - val_loss: 0.6553 - val_acc: 0.6440\n",
            "Epoch 47/100\n",
            "63/63 [==============================] - 9s 116ms/step - loss: 0.5000 - acc: 0.7595 - val_loss: 1.0573 - val_acc: 0.5470\n",
            "Epoch 48/100\n",
            "63/63 [==============================] - 9s 115ms/step - loss: 0.5009 - acc: 0.7540 - val_loss: 0.7611 - val_acc: 0.6120\n",
            "Epoch 49/100\n",
            "63/63 [==============================] - 9s 115ms/step - loss: 0.4920 - acc: 0.7575 - val_loss: 0.6803 - val_acc: 0.6490\n",
            "Epoch 50/100\n",
            "63/63 [==============================] - 9s 116ms/step - loss: 0.4941 - acc: 0.7585 - val_loss: 0.7164 - val_acc: 0.6390\n",
            "Epoch 51/100\n",
            "63/63 [==============================] - 9s 117ms/step - loss: 0.4852 - acc: 0.7625 - val_loss: 0.8281 - val_acc: 0.6080\n",
            "Epoch 52/100\n",
            "63/63 [==============================] - 9s 113ms/step - loss: 0.4875 - acc: 0.7675 - val_loss: 0.6633 - val_acc: 0.6530\n",
            "Epoch 53/100\n",
            "63/63 [==============================] - 9s 115ms/step - loss: 0.4704 - acc: 0.7810 - val_loss: 0.7209 - val_acc: 0.6550\n",
            "Epoch 54/100\n",
            "63/63 [==============================] - 9s 114ms/step - loss: 0.4806 - acc: 0.7660 - val_loss: 0.7030 - val_acc: 0.6530\n",
            "Epoch 55/100\n",
            "63/63 [==============================] - 9s 116ms/step - loss: 0.4652 - acc: 0.7805 - val_loss: 0.7690 - val_acc: 0.6360\n",
            "Epoch 56/100\n",
            "63/63 [==============================] - 9s 116ms/step - loss: 0.4733 - acc: 0.7870 - val_loss: 0.7369 - val_acc: 0.6290\n",
            "Epoch 57/100\n",
            "63/63 [==============================] - 9s 116ms/step - loss: 0.4712 - acc: 0.7800 - val_loss: 0.8136 - val_acc: 0.6300\n",
            "Epoch 58/100\n",
            "63/63 [==============================] - 9s 115ms/step - loss: 0.4701 - acc: 0.7790 - val_loss: 0.7407 - val_acc: 0.6470\n",
            "Epoch 59/100\n",
            "63/63 [==============================] - 9s 117ms/step - loss: 0.4618 - acc: 0.7825 - val_loss: 0.7119 - val_acc: 0.6670\n",
            "Epoch 60/100\n",
            "63/63 [==============================] - 9s 116ms/step - loss: 0.4541 - acc: 0.7910 - val_loss: 0.7035 - val_acc: 0.6520\n",
            "Epoch 61/100\n",
            "63/63 [==============================] - 9s 116ms/step - loss: 0.4581 - acc: 0.7905 - val_loss: 0.8392 - val_acc: 0.6130\n",
            "Epoch 62/100\n",
            "63/63 [==============================] - 9s 115ms/step - loss: 0.4558 - acc: 0.7815 - val_loss: 0.9876 - val_acc: 0.5830\n",
            "Epoch 63/100\n",
            "63/63 [==============================] - 9s 115ms/step - loss: 0.4479 - acc: 0.7860 - val_loss: 0.7566 - val_acc: 0.6550\n",
            "Epoch 64/100\n",
            "63/63 [==============================] - 9s 116ms/step - loss: 0.4489 - acc: 0.7800 - val_loss: 1.2682 - val_acc: 0.5430\n",
            "Epoch 65/100\n",
            "63/63 [==============================] - 9s 115ms/step - loss: 0.4469 - acc: 0.7870 - val_loss: 0.8276 - val_acc: 0.6440\n",
            "Epoch 66/100\n",
            "63/63 [==============================] - 9s 116ms/step - loss: 0.4421 - acc: 0.7900 - val_loss: 0.8520 - val_acc: 0.6340\n",
            "Epoch 67/100\n",
            "63/63 [==============================] - 9s 115ms/step - loss: 0.4460 - acc: 0.7925 - val_loss: 1.4589 - val_acc: 0.5360\n",
            "Epoch 68/100\n",
            "63/63 [==============================] - 9s 115ms/step - loss: 0.4350 - acc: 0.7905 - val_loss: 1.0281 - val_acc: 0.5870\n",
            "Epoch 69/100\n",
            "63/63 [==============================] - 9s 114ms/step - loss: 0.4386 - acc: 0.7920 - val_loss: 0.9368 - val_acc: 0.5950\n",
            "Epoch 70/100\n",
            "63/63 [==============================] - 9s 116ms/step - loss: 0.4329 - acc: 0.7965 - val_loss: 0.8678 - val_acc: 0.6140\n",
            "Epoch 71/100\n",
            "63/63 [==============================] - 9s 115ms/step - loss: 0.4362 - acc: 0.7980 - val_loss: 0.7803 - val_acc: 0.6590\n",
            "Epoch 72/100\n",
            "63/63 [==============================] - 9s 116ms/step - loss: 0.4350 - acc: 0.7915 - val_loss: 1.3393 - val_acc: 0.5530\n",
            "Epoch 73/100\n",
            "63/63 [==============================] - 9s 117ms/step - loss: 0.4314 - acc: 0.8025 - val_loss: 0.8118 - val_acc: 0.6430\n",
            "Epoch 74/100\n",
            "63/63 [==============================] - 9s 115ms/step - loss: 0.4214 - acc: 0.8025 - val_loss: 1.3173 - val_acc: 0.5560\n",
            "Epoch 75/100\n",
            "63/63 [==============================] - 9s 116ms/step - loss: 0.4301 - acc: 0.7985 - val_loss: 1.1962 - val_acc: 0.5540\n",
            "Epoch 76/100\n",
            "63/63 [==============================] - 9s 115ms/step - loss: 0.4208 - acc: 0.8100 - val_loss: 0.9995 - val_acc: 0.6100\n",
            "Epoch 77/100\n",
            "63/63 [==============================] - 9s 116ms/step - loss: 0.4076 - acc: 0.8090 - val_loss: 0.9761 - val_acc: 0.6310\n",
            "Epoch 78/100\n",
            "63/63 [==============================] - 9s 116ms/step - loss: 0.4275 - acc: 0.8045 - val_loss: 0.7455 - val_acc: 0.6570\n",
            "Epoch 79/100\n",
            "63/63 [==============================] - 9s 115ms/step - loss: 0.4090 - acc: 0.8045 - val_loss: 1.0469 - val_acc: 0.6240\n",
            "Epoch 80/100\n",
            "63/63 [==============================] - 9s 115ms/step - loss: 0.4088 - acc: 0.8090 - val_loss: 1.0571 - val_acc: 0.6110\n",
            "Epoch 81/100\n",
            "63/63 [==============================] - 10s 122ms/step - loss: 0.4061 - acc: 0.8075 - val_loss: 1.0963 - val_acc: 0.5990\n",
            "Epoch 82/100\n",
            "63/63 [==============================] - 9s 116ms/step - loss: 0.4023 - acc: 0.8235 - val_loss: 0.9622 - val_acc: 0.6230\n",
            "Epoch 83/100\n",
            "63/63 [==============================] - 9s 115ms/step - loss: 0.4011 - acc: 0.8165 - val_loss: 0.9923 - val_acc: 0.6350\n",
            "Epoch 84/100\n",
            "63/63 [==============================] - 9s 116ms/step - loss: 0.4076 - acc: 0.8180 - val_loss: 0.9378 - val_acc: 0.6180\n",
            "Epoch 85/100\n",
            "63/63 [==============================] - 9s 116ms/step - loss: 0.4057 - acc: 0.8160 - val_loss: 0.8835 - val_acc: 0.6440\n",
            "Epoch 86/100\n",
            "63/63 [==============================] - 9s 115ms/step - loss: 0.3891 - acc: 0.8220 - val_loss: 1.0021 - val_acc: 0.6260\n",
            "Epoch 87/100\n",
            "63/63 [==============================] - 9s 116ms/step - loss: 0.3819 - acc: 0.8285 - val_loss: 0.7777 - val_acc: 0.6590\n",
            "Epoch 88/100\n",
            "63/63 [==============================] - 9s 115ms/step - loss: 0.3876 - acc: 0.8215 - val_loss: 0.8209 - val_acc: 0.6610\n",
            "Epoch 89/100\n",
            "63/63 [==============================] - 9s 116ms/step - loss: 0.3865 - acc: 0.8270 - val_loss: 0.9008 - val_acc: 0.6410\n",
            "Epoch 90/100\n",
            "63/63 [==============================] - 9s 115ms/step - loss: 0.3876 - acc: 0.8140 - val_loss: 0.9522 - val_acc: 0.6130\n",
            "Epoch 91/100\n",
            "63/63 [==============================] - 9s 115ms/step - loss: 0.3794 - acc: 0.8315 - val_loss: 0.8069 - val_acc: 0.6610\n",
            "Epoch 92/100\n",
            "63/63 [==============================] - 9s 115ms/step - loss: 0.3769 - acc: 0.8320 - val_loss: 0.7618 - val_acc: 0.6690\n",
            "Epoch 93/100\n",
            "63/63 [==============================] - 9s 118ms/step - loss: 0.3610 - acc: 0.8350 - val_loss: 1.1636 - val_acc: 0.6080\n",
            "Epoch 94/100\n",
            "63/63 [==============================] - 9s 119ms/step - loss: 0.3751 - acc: 0.8230 - val_loss: 0.8690 - val_acc: 0.6610\n",
            "Epoch 95/100\n",
            "63/63 [==============================] - 9s 120ms/step - loss: 0.3699 - acc: 0.8350 - val_loss: 0.7939 - val_acc: 0.6580\n",
            "Epoch 96/100\n",
            "63/63 [==============================] - 9s 118ms/step - loss: 0.3646 - acc: 0.8345 - val_loss: 0.9060 - val_acc: 0.6530\n",
            "Epoch 97/100\n",
            "63/63 [==============================] - 9s 118ms/step - loss: 0.3699 - acc: 0.8385 - val_loss: 0.9505 - val_acc: 0.6310\n",
            "Epoch 98/100\n",
            "63/63 [==============================] - 9s 118ms/step - loss: 0.3652 - acc: 0.8315 - val_loss: 0.8492 - val_acc: 0.6490\n",
            "Epoch 99/100\n",
            "63/63 [==============================] - 9s 118ms/step - loss: 0.3433 - acc: 0.8500 - val_loss: 0.9898 - val_acc: 0.6310\n",
            "Epoch 100/100\n",
            "63/63 [==============================] - 9s 119ms/step - loss: 0.3548 - acc: 0.8420 - val_loss: 0.8955 - val_acc: 0.6500\n"
          ]
        }
      ],
      "source": [
        "# Finally, it's training time\n",
        "history = model.fit(train_dataset,\n",
        "                    epochs=100,\n",
        "                    validation_data=validation_dataset)"
      ]
    },
    {
      "cell_type": "code",
      "source": [
        "acc  = history.history['acc']\n",
        "val_acc = history.history['val_acc']\n",
        "loss = history.history['loss']\n",
        "val_loss= history.history['val_loss']\n",
        "\n",
        "epochs  = range(len(acc))\n",
        "\n",
        "plt.plot(epochs, acc, 'bo'     , label='Training acc')\n",
        "plt.plot(epochs, val_acc, 'b', label='Validation acc')\n",
        "plt.title('Training and validation accuracy')\n",
        "plt.legend()\n",
        "\n",
        "plt.figure()\n",
        "\n",
        "plt.plot(epochs, loss, 'bo', label='Training loss')\n",
        "plt.plot(epochs, val_loss, 'b', label='Validation loss')\n",
        "plt.title          ('Training and validation loss')\n",
        "plt.legend()\n",
        "\n",
        "plt.show()"
      ],
      "metadata": {
        "id": "_bJVTb84ugTu",
        "colab": {
          "base_uri": "https://localhost:8080/",
          "height": 545
        },
        "outputId": "9e89eb4b-3ba4-4c0e-fd07-5143b2aeeda0"
      },
      "execution_count": 23,
      "outputs": [
        {
          "output_type": "display_data",
          "data": {
            "text/plain": [
              "<Figure size 432x288 with 1 Axes>"
            ],
            "image/png": "[encoded data removed]"
          },
          "metadata": {
            "needs_background": "light"
          }
        },
        {
          "output_type": "display_data",
          "data": {
            "text/plain": [
              "<Figure size 432x288 with 1 Axes>"
            ],
            "image/png": "[encoded data removed]"
          },
          "metadata": {
            "needs_background": "light"
          }
        }
      ]
    }
  ],
  "metadata": {
    "kernelspec": {
      "display_name": "tf2-GPU",
      "language": "python",
      "name": "tf2"
    },
    "language_info": {
      "codemirror_mode": {
        "name": "ipython",
        "version": 3
      },
      "file_extension": ".py",
      "mimetype": "text/x-python",
      "name": "python",
      "nbconvert_exporter": "python",
      "pygments_lexer": "ipython3",
      "version": "3.6.9"
    },
    "colab": {
      "name": "tf_functions_instead_of_data_generator_1st_implementation.ipynb",
      "provenance": [],
      "collapsed_sections": []
    },
    "accelerator": "GPU",
    "gpuClass": "standard"
  },
  "nbformat": 4,
  "nbformat_minor": 0
}